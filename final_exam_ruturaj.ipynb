{
  "nbformat": 4,
  "nbformat_minor": 0,
  "metadata": {
    "colab": {
      "provenance": [],
      "toc_visible": true,
      "authorship_tag": "ABX9TyP3PTrIZjXPrwfDmTAtLbDy",
      "include_colab_link": true
    },
    "kernelspec": {
      "name": "python3",
      "display_name": "Python 3"
    },
    "language_info": {
      "name": "python"
    }
  },
  "cells": [
    {
      "cell_type": "markdown",
      "metadata": {
        "id": "view-in-github",
        "colab_type": "text"
      },
      "source": [
        "<a href=\"https://colab.research.google.com/github/22259606/weatherwise-ruturaj/blob/main/final_exam_ruturaj.ipynb\" target=\"_parent\"><img src=\"https://colab.research.google.com/assets/colab-badge.svg\" alt=\"Open In Colab\"/></a>"
      ]
    },
    {
      "cell_type": "markdown",
      "source": [
        "Iterative Prompt Engineering"
      ],
      "metadata": {
        "id": "EYjgK1msxncU"
      }
    },
    {
      "cell_type": "markdown",
      "source": [
        "I want to design a simple CLI Task Manager that allows users to add, list, and remove tasks stored in memory using only basic Python techniques taught up to Week 10.\n",
        "\n",
        "Please provide a structured pseudocode outline following the planning methodology from Week 4: Planning Before Coding.\n",
        "\n",
        "The pseudocode should use:\n",
        "- Basic lists for task storage\n",
        "- Simple functions with parameters\n",
        "- While loops for menu interaction\n",
        "- Basic try/except for input error handling\n",
        "\n",
        "I need clear steps that reflect these constraints.\n"
      ],
      "metadata": {
        "id": "W5Fje8eg13Y_"
      }
    },
    {
      "cell_type": "code",
      "execution_count": null,
      "metadata": {
        "id": "Tl6qq5wFxmaM"
      },
      "outputs": [],
      "source": [
        "\"\"\"\n",
        "Pseudocode for CLI Task Manager:\n",
        "\n",
        "1. Initialize an empty list 'tasks'.\n",
        "\n",
        "2. Define function add_task(tasks, task):\n",
        "    - Append 'task' to 'tasks'.\n",
        "\n",
        "3. Define function list_tasks(tasks):\n",
        "    - If 'tasks' is empty:\n",
        "        - Print \"No tasks available.\"\n",
        "    - Else:\n",
        "        - For each task in 'tasks', print its index and description.\n",
        "\n",
        "4. Define function remove_task(tasks, index):\n",
        "    - Try:\n",
        "        - Remove task at 'index' from 'tasks'.\n",
        "        - Print confirmation message.\n",
        "      Except IndexError:\n",
        "        - Print \"Invalid index.\"\n",
        "\n",
        "5. Define function display_menu():\n",
        "    - Print menu options:\n",
        "      1. Add task\n",
        "      2. List tasks\n",
        "      3. Remove task\n",
        "      4. Quit\n",
        "\n",
        "6. In main loop:\n",
        "    - While True:\n",
        "        - Call display_menu()\n",
        "        - Prompt user for choice\n",
        "        - Use try/except to convert choice to integer\n",
        "        - If choice == 1:\n",
        "            - Prompt for new task description\n",
        "            - Call add_task()\n",
        "        - Else if choice == 2:\n",
        "            - Call list_tasks()\n",
        "        - Else if choice == 3:\n",
        "            - Prompt for index to remove\n",
        "            - Call remove_task()\n",
        "        - Else if choice == 4:\n",
        "            - Break loop (exit)\n",
        "        - Else:\n",
        "            - Print \"Invalid choice.\"\n",
        "\"\"\"\n"
      ]
    },
    {
      "cell_type": "markdown",
      "source": [
        "### 1.2 Prompt Refinement 1\n",
        "\n",
        "**Refined Prompt 1:**\n",
        "\n",
        "> Please update the pseudocode to explicitly include input validation for menu choices and task indexes using basic try/except blocks, as taught in Week 8 for basic exception handling.  \n",
        "> Make sure to check for non-integer inputs when asking for menu choices or task indexes and provide appropriate error messages.  \n",
        "> Keep the same constraints: basic lists, functions, while loops, and simple error handling only.\n",
        "\n",
        "**Course Reference:**  \n",
        "This refinement applied **basic exception handling** from **Week 8**.\n",
        "\n"
      ],
      "metadata": {
        "id": "oxe8F9AM4j_e"
      }
    },
    {
      "cell_type": "code",
      "source": [
        "\"\"\"\n",
        "Updated Pseudocode including input validation:\n",
        "\n",
        "- In main loop:\n",
        "    - While True:\n",
        "        - Call display_menu()\n",
        "        - Try:\n",
        "            - Get user input for choice and convert to int\n",
        "        - Except:\n",
        "            - Print \"Invalid input, please enter a number.\"\n",
        "            - Continue loop\n",
        "\n",
        "        - If choice == 1:\n",
        "            - Prompt for new task description\n",
        "            - Call add_task()\n",
        "        - Else if choice == 2:\n",
        "            - Call list_tasks()\n",
        "        - Else if choice == 3:\n",
        "            - Try:\n",
        "                - Prompt for task index to remove and convert to int\n",
        "                - Call remove_task()\n",
        "              Except:\n",
        "                - Print \"Invalid index input.\"\n",
        "        - Else if choice == 4:\n",
        "            - Break loop\n",
        "        - Else:\n",
        "            - Print \"Invalid choice.\"\n",
        "\"\"\"\n"
      ],
      "metadata": {
        "id": "yZSmLSR24pUY"
      },
      "execution_count": null,
      "outputs": []
    },
    {
      "cell_type": "markdown",
      "source": [
        "### Prompt Refinement 2\n",
        "\n",
        "**Refined Prompt 2:**\n",
        "\n",
        "> Please further refine the pseudocode by adding comments explaining each function’s purpose, and use descriptive variable names for clarity (e.g., task_list instead of tasks, task_description instead of task).  \n",
        "> Keep input validation and error handling as per previous refinement.  \n",
        "> Maintain the course constraints on techniques used.\n",
        "\n",
        "**Course Reference:**  \n",
        "This refinement applied **descriptive naming and commenting** from **Week 5 (Good Function Design)** and **Week 9 (Code Readability & Documentation)**.\n"
      ],
      "metadata": {
        "id": "aIKuZNKH4tGC"
      }
    },
    {
      "cell_type": "code",
      "source": [
        "\"\"\"\n",
        "Final refined pseudocode:\n",
        "\n",
        "1. Initialize an empty list 'task_list' to store all tasks.\n",
        "\n",
        "2. Define function add_task(task_list, task_description):\n",
        "    # Adds a new task to the list\n",
        "    - Append 'task_description' to 'task_list'.\n",
        "\n",
        "3. Define function list_tasks(task_list):\n",
        "    # Displays all tasks with their indexes\n",
        "    - If 'task_list' is empty:\n",
        "        - Print \"No tasks available.\"\n",
        "    - Else:\n",
        "        - For index, task in enumerate(task_list):\n",
        "            - Print index and task.\n",
        "\n",
        "4. Define function remove_task(task_list, task_index):\n",
        "    # Removes task at the given index\n",
        "    - Try:\n",
        "        - Delete task at 'task_index' from 'task_list'.\n",
        "        - Print confirmation message.\n",
        "      Except:\n",
        "        - Print \"Invalid index.\"\n",
        "\n",
        "5. Define function display_menu():\n",
        "    # Prints menu options\n",
        "    - Print:\n",
        "        1. Add task\n",
        "        2. List tasks\n",
        "        3. Remove task\n",
        "        4. Quit\n",
        "\n",
        "6. In main loop:\n",
        "    - While True:\n",
        "        - Call display_menu()\n",
        "        - Try:\n",
        "            - Read user input for choice as integer\n",
        "        - Except:\n",
        "            - Print \"Invalid input. Enter a number.\"\n",
        "            - Continue loop\n",
        "\n",
        "        - If choice == 1:\n",
        "            - Prompt user for 'task_description'\n",
        "            - Call add_task(task_list, task_description)\n",
        "        - Else if choice == 2:\n",
        "            - Call list_tasks(task_list)\n",
        "        - Else if choice == 3:\n",
        "            - Try:\n",
        "                - Prompt for 'task_index' as int\n",
        "                - Call remove_task(task_list, task_index)\n",
        "              Except:\n",
        "                - Print \"Invalid index input.\"\n",
        "        - Else if choice == 4:\n",
        "            - Break loop\n",
        "        - Else:\n",
        "            - Print \"Invalid choice.\"\n",
        "\"\"\"\n"
      ],
      "metadata": {
        "id": "ecirPJXv4xDa"
      },
      "execution_count": null,
      "outputs": []
    },
    {
      "cell_type": "markdown",
      "source": [
        "### 1.3 Critical Analysis (150 words)\n",
        "\n",
        "My refinements applied **basic exception handling** from **Week 8** because they added user input validation with try/except blocks to prevent crashes from invalid inputs. The first refinement improved the robustness of the menu and task removal interactions by catching errors early, reflecting our course’s emphasis on defensive programming.\n",
        "\n",
        "The second refinement incorporated **descriptive variable names and comments**, applying principles from **Week 5 on clear function design** and **Week 9 on documentation standards**. This made the pseudocode more readable and maintainable, which aligns with our course’s **Planning Before Coding** methodology taught in **Week 4**.\n",
        "\n",
        "Overall, the iterative design process helped me progressively build a pseudocode plan that respects course constraints and good programming practices, preparing me for the later manual implementation.\n"
      ],
      "metadata": {
        "id": "rvdpKdqP4wzh"
      }
    },
    {
      "cell_type": "markdown",
      "source": [],
      "metadata": {
        "id": "llCR0h8o44mg"
      }
    },
    {
      "cell_type": "markdown",
      "source": [
        "## Section 2: Debug & Correct with AI\n",
        "\n"
      ],
      "metadata": {
        "id": "1N5qa0pE5PYU"
      }
    },
    {
      "cell_type": "markdown",
      "source": [
        " 2.1 Error Identification\n"
      ],
      "metadata": {
        "id": "EMJUy68N5YM4"
      }
    },
    {
      "cell_type": "markdown",
      "source": [
        " Prompt to AI\n",
        "\n",
        "Please review this Python script for a basic task manager. Identify all bugs and issues using only debugging techniques taught up to Week 6 of an introductory Python course (e.g., variable names, function calls, list access, typos, etc.).\n"
      ],
      "metadata": {
        "id": "ch90K_H_5hUu"
      }
    },
    {
      "cell_type": "markdown",
      "source": [
        "####  AI’s Response\n",
        "\n",
        "There are several issues in this code:\n",
        "\n",
        "1. In the function `remove_task(index)`, there’s a typo: `tas` should be `tasks`.\n",
        "\n",
        "2. In the `list_tasks()` function, the loop uses `enumerate(task)` which is incorrect.\n",
        "   It should be `enumerate(tasks)`.\n",
        "\n",
        "3. In the `main()` function, the last line is calling `list_task()` instead of `list_tasks()`.\n",
        "\n",
        "Each of these would raise an error at runtime.\n"
      ],
      "metadata": {
        "id": "bSS6Ur785rC3"
      }
    },
    {
      "cell_type": "markdown",
      "source": [
        "####  Course Reference\n",
        "\n",
        "I used the debugging method from **Week 6: Bug Hunting & Manual Testing**, which emphasized reviewing function names, variable names, and logic manually. This approach helped identify the typos and incorrect references the AI pointed out.\n"
      ],
      "metadata": {
        "id": "JeWIeOwf5wm1"
      }
    },
    {
      "cell_type": "markdown",
      "source": [
        "###  2.2 Fix & Manual Rewrite\n"
      ],
      "metadata": {
        "id": "SkTqyX4z55pO"
      }
    },
    {
      "cell_type": "markdown",
      "source": [
        "####  Prompt to AI\n",
        "\n",
        "Please fix the code errors found in this basic task manager script. Use only introductory Python techniques (taught up to Week 6), and return the complete corrected code.\n"
      ],
      "metadata": {
        "id": "6-LNNhAs6AWr"
      }
    },
    {
      "cell_type": "code",
      "source": [
        "# SECTION 2.2 - Corrected Task Manager using Week 6 techniques\n",
        "\n",
        "tasks = []\n",
        "\n",
        "def add_task(task):\n",
        "    \"\"\"\n",
        "    Add a task to the list.\n",
        "\n",
        "    >>> add_task(\"Read book\")\n",
        "    Added: Read book\n",
        "    \"\"\"\n",
        "    tasks.append(task)\n",
        "    print(f\"Added: {task}\")\n",
        "\n",
        "def remove_task(index):\n",
        "    \"\"\"\n",
        "    Remove a task by index if valid.\n",
        "\n",
        "    >>> remove_task(0)  # Assuming one task exists\n",
        "    Removed: Read book\n",
        "    \"\"\"\n",
        "    if index < len(tasks):\n",
        "        removed = tasks[index]\n",
        "        del tasks[index]\n",
        "        print(f\"Removed: {removed}\")\n",
        "    else:\n",
        "        print(\"Invalid index!\")\n",
        "\n",
        "def list_tasks():\n",
        "    \"\"\"\n",
        "    List all tasks.\n",
        "\n",
        "    >>> list_tasks()  # doctest: +SKIP\n",
        "    \"\"\"\n",
        "    if not tasks:\n",
        "        print(\"No tasks available.\")\n",
        "    else:\n",
        "        for i, t in enumerate(tasks):  # Fixed: was 'task'\n",
        "            print(f\"{i+1}: {t}\")\n",
        "\n",
        "def main():\n",
        "    \"\"\"\n",
        "    Example run to test functions.\n",
        "    \"\"\"\n",
        "    add_task(\"Buy milk\")\n",
        "    add_task(\"Pay bills\")\n",
        "    add_task(\"Walk dog\")\n",
        "    list_tasks()\n",
        "    remove_task(1)\n",
        "    list_tasks()  # Fixed function name\n",
        "\n",
        "# Summary of Fixes:\n",
        "# - Fixed variable typo: tas → tasks\n",
        "# - Fixed loop error: enumerate(task) → enumerate(tasks)\n",
        "# - Fixed function call: list_task() → list_tasks()\n",
        "\n",
        "if __name__ == \"__main__\":\n",
        "    import doctest\n",
        "    doctest.testmod()\n"
      ],
      "metadata": {
        "id": "xFRDY5hh6Fbs"
      },
      "execution_count": null,
      "outputs": []
    },
    {
      "cell_type": "markdown",
      "source": [
        "####  Course Reference\n",
        "\n",
        "This fix applies debugging techniques from **Week 6**, where we learned how to read and trace errors, especially around typos and function name mismatches. Doctests were included based on **Week 9: Testing & Debugging** to show expected function outputs.\n"
      ],
      "metadata": {
        "id": "jf1rH_Zc6Pbh"
      }
    },
    {
      "cell_type": "markdown",
      "source": [
        "##  Section 3: API Debugging"
      ],
      "metadata": {
        "id": "4mwrF4C56Uy_"
      }
    },
    {
      "cell_type": "markdown",
      "source": [
        "###  3.1 API Error Debug\n"
      ],
      "metadata": {
        "id": "m1WYZnko6bYV"
      }
    },
    {
      "cell_type": "markdown",
      "source": [
        "####  Prompt to AI\n",
        "\n",
        "The following code simulates calling an external API (simulated function). It raises an error when run. Identify and fix the issue using only debugging techniques taught through Week 10. Provide the corrected code and explain the fix.\n"
      ],
      "metadata": {
        "id": "ri6mZOvK6gte"
      }
    },
    {
      "cell_type": "code",
      "source": [
        "# SECTION 3.1 - Buggy API Simulation\n",
        "\n",
        "def fake_api_request(data):\n",
        "    response = {\"status\": \"success\", \"data\": data}\n",
        "    return reponse  # Typo here\n",
        "\n",
        "def call_api():\n",
        "    result = fake_api_request(\"Finish assignment\")\n",
        "    if result[\"status\"] == \"success\":\n",
        "        print(\"Task sent successfully!\")\n",
        "    else:\n",
        "        print(\"Failed to send task.\")\n",
        "\n",
        "call_api()\n"
      ],
      "metadata": {
        "id": "IKRqqXTz6m0p"
      },
      "execution_count": null,
      "outputs": []
    },
    {
      "cell_type": "markdown",
      "source": [
        "####  AI’s Response\n",
        "\n",
        "The error is caused by a typo in the `fake_api_request` function:\n",
        "- `return reponse` should be `return response`.\n",
        "\n",
        "Python raises a `NameError` because `reponse` is not defined.\n"
      ],
      "metadata": {
        "id": "YzuPAgE16px-"
      }
    },
    {
      "cell_type": "markdown",
      "source": [
        "####  Explanation of Fix\n",
        "\n",
        "I corrected the typo from `reponse` to `response` inside the `fake_api_request` function. This resolves the `NameError`.\n",
        "\n",
        "This applies debugging techniques from **Week 6: Error Tracing**, focusing on reading traceback messages and identifying misspelled variable names.\n"
      ],
      "metadata": {
        "id": "OpWGAfFI6t7V"
      }
    },
    {
      "cell_type": "code",
      "source": [
        "# SECTION 3.1 - Fixed API Simulation\n",
        "\n",
        "def fake_api_request(data):\n",
        "    response = {\"status\": \"success\", \"data\": data}\n",
        "    return response  # Fixed typo\n",
        "\n",
        "def call_api():\n",
        "    result = fake_api_request(\"Finish assignment\")\n",
        "    if result[\"status\"] == \"success\":\n",
        "        print(\"Task sent successfully!\")\n",
        "    else:\n",
        "        print(\"Failed to send task.\")\n",
        "\n",
        "call_api()\n"
      ],
      "metadata": {
        "id": "OeUtKdUN61x6"
      },
      "execution_count": null,
      "outputs": []
    },
    {
      "cell_type": "markdown",
      "source": [
        "####  Course Reference\n",
        "\n",
        "This debugging applied concepts from **Week 6: Error Tracing** where we focused on reading Python error messages like `NameError`. The fix also reflects our **Week 10** understanding of how to simulate API logic using dictionaries and simple function calls.\n"
      ],
      "metadata": {
        "id": "ApEf6dgD63E-"
      }
    },
    {
      "cell_type": "markdown",
      "source": [
        "SECTION 4: GitHub + Colab + Markdown"
      ],
      "metadata": {
        "id": "QKF1bwno7DcJ"
      }
    },
    {
      "cell_type": "markdown",
      "source": [
        "###  4.1 GitHub Repository Setup\n"
      ],
      "metadata": {
        "id": "z2cHs78O7L5i"
      }
    },
    {
      "cell_type": "markdown",
      "source": [
        "I created a GitHub repository named `ai-python-final`. The Colab notebook is named `final_exam.ipynb` and has been pushed to the main branch.\n",
        "\n",
        "Steps followed:\n",
        "1. Created the repository on GitHub.\n",
        "2. Connected Google Colab to GitHub using \"File > Save a copy in GitHub\".\n",
        "3. Pushed the file to the repo under `/main`.\n",
        "4. Repository Link: https://github.com/ruturaj2304/final-exam-ruturaj\n"
      ],
      "metadata": {
        "id": "srrjgZ5y7Oaw"
      }
    },
    {
      "cell_type": "markdown",
      "source": [
        "###  4.2 Colab Notebook Markdown\n"
      ],
      "metadata": {
        "id": "MGWBq0RA858P"
      }
    },
    {
      "cell_type": "markdown",
      "source": [
        "#  AI-Assisted Python Programming – Final Exam\n",
        "**Name:** Ruturaj Parmar  \n",
        "**Student ID:** 22259606  \n",
        "**Course:** Introduction to buisness programing\n",
        "**Lecturer:** Michael  \n",
        "**Date:** 6 June 2025  \n",
        "\n",
        "---\n",
        "\n",
        "##  Task Manager – Project Summary\n",
        "\n",
        "This notebook documents the design, development, and debugging of a CLI-based task manager using AI assistance. It follows course constraints through Week 10 and demonstrates iterative prompt refinement, basic error handling, and simulated API calls using functions.\n",
        "\n",
        "---\n",
        "\n",
        "##  Section Overview\n",
        "1. Iterative Prompt Engineering   \n",
        "2. CLI Task Manager (Final Code)   \n",
        "3. API Debugging   \n",
        "4. GitHub + Colab + Markdown\n"
      ],
      "metadata": {
        "id": "HuAAWrFk89lR"
      }
    },
    {
      "cell_type": "markdown",
      "source": [
        "Prompt: I need to create a command-line quiz generator program in Python. It should follow Week 10 constraints like basic functions, lists, and dictionaries. Please give me structured pseudocode for this.\n",
        "\n",
        "AI RESPONSE:  \n",
        "1. Define a list to store questions and answers.  \n",
        "2. Create a function to load questions.  \n",
        "3. Display a menu with options (start quiz, add question, exit).  \n",
        "4. Use a while loop for the menu system.  \n",
        "5. Add try/except for input handling.  \n",
        "6. Use basic file operations if needed.\n"
      ],
      "metadata": {
        "id": "3cnE5WIR91cU"
      }
    },
    {
      "cell_type": "markdown",
      "source": [
        "Prompt: Please refine the pseudocode to handle these additional requirements: file validation, limit max questions, and return to menu after each action.\n",
        "\n",
        "AI RESPONSE:  \n",
        "- Added `os.path.exists()` check for file existence.  \n",
        "- Implemented a question limit using `if len(questions) >= 10:`  \n",
        "- After each action, return to the menu using a loop structure.  \n",
        "- Included error handling with try/except for all input prompts.\n"
      ],
      "metadata": {
        "id": "rXHlnbbU984D"
      }
    },
    {
      "cell_type": "markdown",
      "source": [
        "Prompt: Please refine the pseudocode to handle these additional requirements: file validation, limit max questions, and return to menu after each action.\n",
        "\n",
        "AI RESPONSE:  \n",
        "- Added `os.path.exists()` check for file existence.  \n",
        "- Implemented a question limit using `if len(questions) >= 10:`  \n",
        "- After each action, return to the menu using a loop structure.  \n",
        "- Included error handling with try/except for all input prompts.\n"
      ],
      "metadata": {
        "id": "x32gmEhK9-er"
      }
    },
    {
      "cell_type": "markdown",
      "source": [
        "Prompt: Please analyse this chatbot code and identify all errors, including syntax and logic issues.\n",
        "\n",
        "AI RESPONSE:  \n",
        "1. SYNTAX ERROR (Line 23): Uses `memory.append()` before `memory` is defined.  \n",
        "2. LOGIC ERROR: Function `get_response()` is not returning any value.  \n",
        "3. INPUT ERROR: User input is not sanitized.  \n",
        "4. STRUCTURE: Menu loop is missing an exit condition.\n"
      ],
      "metadata": {
        "id": "ec4YQqDu-BDP"
      }
    },
    {
      "cell_type": "markdown",
      "source": [
        "Prompt: Help me brainstorm comprehensive error handling for a CSV analysis function using only Week 10 constraints.\n",
        "\n",
        "AI RESPONSE:  \n",
        "Consider handling:  \n",
        "- FileNotFoundError using try/except.  \n",
        "- PermissionError in case of protected files.  \n",
        "- csv.Error if the CSV is malformed.  \n",
        "- ValueError for invalid data parsing.  \n",
        "- Use a default file path fallback if error occurs.\n"
      ],
      "metadata": {
        "id": "HPs1rKxL-DXK"
      }
    },
    {
      "cell_type": "markdown",
      "source": [
        "Prompt: What’s the correct syntax for randomly sampling from a list in Python?\n",
        "\n",
        "AI RESPONSE:  \n",
        "Use `random.sample(my_list, k)` for sampling without replacement.  \n",
        "Example: `random.sample(['a', 'b', 'c'], 2)` will return 2 random items.  \n",
        "Import needed: `import random`\n"
      ],
      "metadata": {
        "id": "yE7IYN1m-G-r"
      }
    }
  ]
}